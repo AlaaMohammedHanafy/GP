{
 "cells": [
  {
   "cell_type": "code",
   "execution_count": 17,
   "metadata": {},
   "outputs": [],
   "source": [
    "# reshape  the data \n",
    "import numpy as np\n",
    "import pandas as pd\n",
    "import matplotlib.pyplot as plt\n",
    "from sklearn.model_selection import train_test_split\n",
    "from sklearn.preprocessing import StandardScaler\n",
    "from sklearn.preprocessing import MinMaxScaler\n",
    "from tensorflow.keras.models import Sequential\n",
    "from tensorflow.keras.layers import BatchNormalization, Conv2D, Flatten, Dense"
   ]
  },
  {
   "cell_type": "code",
   "execution_count": 18,
   "metadata": {},
   "outputs": [],
   "source": [
    "# Load the dataset\n",
    "train_data = pd.read_csv(\"mitbih_train.csv\")\n",
    "test_data = pd.read_csv(\"mitbih_test.csv\")"
   ]
  },
  {
   "cell_type": "code",
   "execution_count": 19,
   "metadata": {},
   "outputs": [],
   "source": [
    "# Split into input (X) and output (y) variables\n",
    "X_train = train_data.iloc[:, 0:187].values\n",
    "y_train = train_data.iloc[:, 187].values\n",
    "\n",
    "X_test = test_data.iloc[:, 0:187].values\n",
    "y_test = test_data.iloc[:, 187].values"
   ]
  },
  {
   "cell_type": "code",
   "execution_count": 20,
   "metadata": {},
   "outputs": [
    {
     "name": "stdout",
     "output_type": "stream",
     "text": [
      "Original shapes:\n",
      "X_train shape: (87553, 187), y_train shape: (87553,)\n"
     ]
    }
   ],
   "source": [
    "print(\"Original shapes:\")\n",
    "print(f\"X_train shape: {X_train.shape}, y_train shape: {y_train.shape}\")\n"
   ]
  },
  {
   "cell_type": "code",
   "execution_count": null,
   "metadata": {},
   "outputs": [
    {
     "name": "stdout",
     "output_type": "stream",
     "text": [
      "Reshaped for CNN:\n",
      "X_train_reshaped shape: (87553, 11, 17, 1)\n",
      "X_test_reshaped shape: (21891, 11, 17, 1)\n",
      "\n",
      "Visualizing first sample as 2D image:\n",
      "[[0.96011394 0.86324787 0.46153846 0.1965812  0.0940171  0.12535612\n",
      "  0.0997151  0.08831909 0.07407407 0.08262108 0.07407407 0.06267806\n",
      "  0.06552707 0.06552707 0.06267806 0.07692308 0.07122507]\n",
      " [0.08262108 0.09116809 0.09686609 0.08262108 0.08262108 0.09116809\n",
      "  0.10541311 0.12250713 0.14814815 0.18233618 0.19373219 0.21367522\n",
      "  0.20797721 0.22222222 0.25356126 0.27065527 0.28774929]\n",
      " [0.28490028 0.29344729 0.25641027 0.24786325 0.18803419 0.14529915\n",
      "  0.10826211 0.08262108 0.07977208 0.07407407 0.01424501 0.01139601\n",
      "  0.06267806 0.05128205 0.05698006 0.04843305 0.02849003]\n",
      " [0.03133903 0.07692308 0.02564103 0.02849003 0.03703704 0.0940171\n",
      "  0.08547009 0.03988604 0.05982906 0.07407407 0.07977208 0.09116809\n",
      "  0.0997151  0.10826211 0.08831909 0.09116809 0.06552707]\n",
      " [0.08547009 0.08831909 0.07692308 0.08262108 0.09686609 0.0997151\n",
      "  0.13390313 0.1025641  0.03988604 0.06552707 0.07407407 0.08262108\n",
      "  0.08547009 0.05698006 0.04558405 0.1025641  0.03988604]\n",
      " [0.01139601 0.01709402 0.03133903 0.00569801 0.00854701 0.03133903\n",
      "  0.05128205 0.05698006 0.08831909 0.06552707 0.01139601 0.05698006\n",
      "  0.03988604 0.03988604 0.02564103 0.002849   0.01994302]\n",
      " [0.02564103 0.01139601 0.02849003 0.01994302 0.02279202 0.03418804\n",
      "  0.01424501 0.05128205 0.06837607 0.13960114 0.28774929 0.52706552\n",
      "  0.77777779 1.         0.8888889  0.49287748 0.19088319]\n",
      " [0.08831909 0.06267806 0.03418804 0.         0.03418804 0.01709402\n",
      "  0.002849   0.         0.04843305 0.04843305 0.05413105 0.04273504\n",
      "  0.05413105 0.05982906 0.06267806 0.07122507 0.07692308]\n",
      " [0.0997151  0.         0.         0.         0.         0.\n",
      "  0.         0.         0.         0.         0.         0.\n",
      "  0.         0.         0.         0.         0.        ]\n",
      " [0.         0.         0.         0.         0.         0.\n",
      "  0.         0.         0.         0.         0.         0.\n",
      "  0.         0.         0.         0.         0.        ]\n",
      " [0.         0.         0.         0.         0.         0.\n",
      "  0.         0.         0.         0.         0.         0.\n",
      "  0.         0.         0.         0.         0.        ]]\n",
      "Reshaping complete and data saved!\n"
     ]
    }
   ],
   "source": [
    "## Simpler approach - directly reshape to 2D image-like format\n",
    "# This reshapes the 187 features into an 11×17 grid with a channel dimensionٍ\n",
    "X_train_reshaped = X_train.reshape(X_train.shape[0], 11, 17, 1)\n",
    "X_test_reshaped = X_test.reshape(X_test.shape[0], 11, 17, 1)\n",
    "\n",
    "print(\"Reshaped for CNN:\")\n",
    "print(f\"X_train_reshaped shape: {X_train_reshaped.shape}\")\n",
    "print(f\"X_test_reshaped shape: {X_test_reshaped.shape}\")\n",
    "\n",
    "# If you want to visualize one example\n",
    "if X_train.shape[0] > 0:\n",
    "    print(\"\\nVisualizing first sample as 2D image:\")\n",
    "    sample = X_train_reshaped[0, :, :, 0]\n",
    "    print(sample)\n",
    "\n",
    "# Save the reshaped data\n",
    "np.save(\"X_train_reshaped.npy\", X_train_reshaped)\n",
    "np.save(\"X_test_reshaped.npy\", X_test_reshaped)\n",
    "np.save(\"y_train.npy\", y_train)\n",
    "np.save(\"y_test.npy\", y_test)\n",
    "\n",
    "print(\"Reshaping complete and data saved!\")"
   ]
  },
  {
   "cell_type": "code",
   "execution_count": null,
   "metadata": {},
   "outputs": [],
   "source": []
  },
  {
   "cell_type": "code",
   "execution_count": null,
   "metadata": {},
   "outputs": [],
   "source": []
  }
 ],
 "metadata": {
  "kernelspec": {
   "display_name": "base",
   "language": "python",
   "name": "python3"
  },
  "language_info": {
   "codemirror_mode": {
    "name": "ipython",
    "version": 3
   },
   "file_extension": ".py",
   "mimetype": "text/x-python",
   "name": "python",
   "nbconvert_exporter": "python",
   "pygments_lexer": "ipython3",
   "version": "3.12.3"
  }
 },
 "nbformat": 4,
 "nbformat_minor": 2
}
